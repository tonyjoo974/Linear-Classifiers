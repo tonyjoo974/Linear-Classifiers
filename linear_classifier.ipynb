{
  "nbformat": 4,
  "nbformat_minor": 0,
  "metadata": {
    "colab": {
      "name": "CS 498DL Assignment-1.ipynb",
      "provenance": [],
      "collapsed_sections": []
    },
    "kernelspec": {
      "display_name": "Python 3",
      "language": "python",
      "name": "python3"
    },
    "language_info": {
      "codemirror_mode": {
        "name": "ipython",
        "version": 3
      },
      "file_extension": ".py",
      "mimetype": "text/x-python",
      "name": "python",
      "nbconvert_exporter": "python",
      "pygments_lexer": "ipython3",
      "version": "3.8.7"
    }
  },
  "cells": [
    {
      "cell_type": "code",
      "metadata": {
        "colab": {
          "base_uri": "https://localhost:8080/"
        },
        "id": "NqYl5IrnGEoy",
        "outputId": "fcce9d22-a8fc-4850-c897-8922551eda21"
      },
      "source": [
        "from google.colab import drive\n",
        "drive.mount('/content/drive')"
      ],
      "execution_count": null,
      "outputs": [
        {
          "output_type": "stream",
          "text": [
            "Mounted at /content/drive\n"
          ],
          "name": "stdout"
        }
      ]
    },
    {
      "cell_type": "code",
      "metadata": {
        "colab": {
          "base_uri": "https://localhost:8080/"
        },
        "id": "syYD-yxWJXM_",
        "outputId": "ecf0c194-2831-49a1-c851-ce4ddd1465c1"
      },
      "source": [
        "# navigate to current directory\r\n",
        "!pwd\r\n",
        "%cd drive/MyDrive/cs498DL_assignment1/"
      ],
      "execution_count": null,
      "outputs": [
        {
          "output_type": "stream",
          "text": [
            "/content\n",
            "/content/drive/MyDrive/cs498DL_assignment1\n"
          ],
          "name": "stdout"
        }
      ]
    },
    {
      "cell_type": "code",
      "metadata": {
        "id": "wnx9FQt1GCyh"
      },
      "source": [
        "\n",
        "import random\n",
        "import numpy as np\n",
        "from data_process import get_CIFAR10_data, get_MUSHROOM_data\n",
        "from scipy.spatial import distance\n",
        "from models import Perceptron, SVM, Softmax, Logistic\n",
        "from kaggle_submission import output_submission_csv\n",
        "%matplotlib inline\n",
        "\n",
        "# For auto-reloading external modules\n",
        "# See http://stackoverflow.com/questions/1907993/autoreload-of-modules-in-ipython\n",
        "%load_ext autoreload\n",
        "%autoreload 2"
      ],
      "execution_count": null,
      "outputs": []
    },
    {
      "cell_type": "markdown",
      "metadata": {
        "id": "6OTfpg5tGCyo"
      },
      "source": [
        "# Loading CIFAR-10"
      ]
    },
    {
      "cell_type": "markdown",
      "metadata": {
        "id": "r5OrfxkUGCyo"
      },
      "source": [
        "In the following cells we determine the number of images for each split and load the images.\n",
        "<br /> \n",
        "TRAIN_IMAGES + VAL_IMAGES = (0, 50000]\n",
        ", TEST_IMAGES = 10000"
      ]
    },
    {
      "cell_type": "code",
      "metadata": {
        "id": "BLmu2YnDGCyp"
      },
      "source": [
        "# You can change these numbers for experimentation\n",
        "# For submission we will use the default values \n",
        "TRAIN_IMAGES = 40000\n",
        "VAL_IMAGES = 10000"
      ],
      "execution_count": null,
      "outputs": []
    },
    {
      "cell_type": "code",
      "metadata": {
        "id": "D-zUvGBbGCyp"
      },
      "source": [
        "data = get_CIFAR10_data(TRAIN_IMAGES, VAL_IMAGES)\n",
        "X_train_CIFAR, y_train_CIFAR = data['X_train'], data['y_train']\n",
        "X_val_CIFAR, y_val_CIFAR = data['X_val'], data['y_val']\n",
        "X_test_CIFAR, y_test_CIFAR = data['X_test'], data['y_test']\n",
        "n_class_CIFAR = len(np.unique(y_test_CIFAR))"
      ],
      "execution_count": null,
      "outputs": []
    },
    {
      "cell_type": "markdown",
      "metadata": {
        "id": "5-ISRccsGCyp"
      },
      "source": [
        "Convert the sets of images from dimensions of **(N, 3, 32, 32) -> (N, 3072)** where N is the number of images so that each **3x32x32** image is represented by a single vector."
      ]
    },
    {
      "cell_type": "code",
      "metadata": {
        "id": "of921sBAGCyq"
      },
      "source": [
        "X_train_CIFAR = np.reshape(X_train_CIFAR, (X_train_CIFAR.shape[0], -1))\n",
        "X_val_CIFAR = np.reshape(X_val_CIFAR, (X_val_CIFAR.shape[0], -1))\n",
        "X_test_CIFAR = np.reshape(X_test_CIFAR, (X_test_CIFAR.shape[0], -1))"
      ],
      "execution_count": null,
      "outputs": []
    },
    {
      "cell_type": "markdown",
      "metadata": {
        "id": "gJqfegpvGCyq"
      },
      "source": [
        "# Loading Mushroom"
      ]
    },
    {
      "cell_type": "markdown",
      "metadata": {
        "id": "9vUMoS8AGCyq"
      },
      "source": [
        "In the following cells we determine the splitting of the mushroom dataset.\n",
        "<br /> TRAINING + VALIDATION = 0.8, TESTING = 0.2"
      ]
    },
    {
      "cell_type": "code",
      "metadata": {
        "id": "GyjgR90gGCyr"
      },
      "source": [
        "# TRAINING = 0.6 indicates 60% of the data is used as the training dataset.\n",
        "VALIDATION = 0.2"
      ],
      "execution_count": null,
      "outputs": []
    },
    {
      "cell_type": "code",
      "metadata": {
        "colab": {
          "base_uri": "https://localhost:8080/"
        },
        "id": "c2-5ejEGGCyr",
        "outputId": "2c7f1e9f-6d90-4725-cfeb-1e3740da71d2"
      },
      "source": [
        "data = get_MUSHROOM_data(VALIDATION)\n",
        "X_train_MR, y_train_MR = data['X_train'], data['y_train']\n",
        "X_val_MR, y_val_MR = data['X_val'], data['y_val']\n",
        "X_test_MR, y_test_MR = data['X_test'], data['y_test']\n",
        "n_class_MR = len(np.unique(y_test_MR))\n",
        "\n",
        "print(\"Number of train samples: \", X_train_MR.shape[0])\n",
        "print(\"Number of val samples: \", X_val_MR.shape[0])\n",
        "print(\"Number of test samples: \", X_test_MR.shape[0])"
      ],
      "execution_count": null,
      "outputs": [
        {
          "output_type": "stream",
          "text": [
            "Number of train samples:  4874\n",
            "Number of val samples:  1625\n",
            "Number of test samples:  1625\n"
          ],
          "name": "stdout"
        }
      ]
    },
    {
      "cell_type": "markdown",
      "metadata": {
        "id": "eu1Arb2xGCyr"
      },
      "source": [
        "### Get Accuracy"
      ]
    },
    {
      "cell_type": "markdown",
      "metadata": {
        "id": "g-tYp2LTGCys"
      },
      "source": [
        "This function computes how well your model performs using accuracy as a metric."
      ]
    },
    {
      "cell_type": "code",
      "metadata": {
        "id": "OlFm5xKPGCys"
      },
      "source": [
        "def get_acc(pred, y_test):\n",
        "    return np.sum(y_test == pred) / len(y_test) * 100"
      ],
      "execution_count": null,
      "outputs": []
    },
    {
      "cell_type": "markdown",
      "metadata": {
        "id": "_kDVSFsdGCys"
      },
      "source": [
        "# Perceptron"
      ]
    },
    {
      "cell_type": "markdown",
      "metadata": {
        "id": "sNwS2kF1GCys"
      },
      "source": [
        "Perceptron has 2 hyperparameters that you can experiment with:\n",
        "- **Learning rate** - controls how much we change the current weights of the classifier during each update. We set it at a default value of 0.5, but you should experiment with different values. We recommend changing the learning rate by factors of 10 and observing how the performance of the classifier changes. You should also try adding a **decay** which slowly reduces the learning rate over each epoch.\n",
        "- **Number of Epochs** - An epoch is a complete iterative pass over all of the data in the dataset. During an epoch we predict a label using the classifier and then update the weights of the classifier according to the perceptron update rule for each sample in the training set. You should try different values for the number of training epochs and report your results."
      ]
    },
    {
      "cell_type": "markdown",
      "metadata": {
        "id": "IFPQuwWCGCyt"
      },
      "source": [
        "You will implement the Perceptron classifier in the **models/perceptron.py**\n",
        "\n",
        "The following code: \n",
        "- Creates an instance of the Perceptron classifier class \n",
        "- The train function of the Perceptron class is trained on the training data\n",
        "- We use the predict function to find the training accuracy as well as the testing accuracy\n"
      ]
    },
    {
      "cell_type": "markdown",
      "metadata": {
        "id": "gxVSKUkzGCyt"
      },
      "source": [
        "## Train Perceptron on CIFAR"
      ]
    },
    {
      "cell_type": "code",
      "metadata": {
        "colab": {
          "base_uri": "https://localhost:8080/"
        },
        "id": "f_hlXevfGCyt",
        "outputId": "474e80f8-fa21-4a41-f7ea-37fb2688aedd"
      },
      "source": [
        "lr = 0.45\n",
        "n_epochs = 50\n",
        "\n",
        "percept_CIFAR = Perceptron(n_class_CIFAR, lr, n_epochs)\n",
        "percept_CIFAR.train(X_train_CIFAR, y_train_CIFAR)"
      ],
      "execution_count": null,
      "outputs": [
        {
          "output_type": "stream",
          "text": [
            "epoch:  0\n",
            "epoch:  10\n",
            "epoch:  20\n",
            "epoch:  30\n",
            "epoch:  40\n"
          ],
          "name": "stdout"
        }
      ]
    },
    {
      "cell_type": "code",
      "metadata": {
        "colab": {
          "base_uri": "https://localhost:8080/"
        },
        "id": "gAi9lgDhGCyu",
        "outputId": "043d58a0-8b1a-4dad-ca3d-b229599ccd2d"
      },
      "source": [
        "pred_percept = percept_CIFAR.predict(X_train_CIFAR)\n",
        "print('The training accuracy is given by: %f' % (get_acc(pred_percept, y_train_CIFAR)))"
      ],
      "execution_count": null,
      "outputs": [
        {
          "output_type": "stream",
          "text": [
            "The training accuracy is given by: 35.745000\n"
          ],
          "name": "stdout"
        }
      ]
    },
    {
      "cell_type": "markdown",
      "metadata": {
        "id": "wVxQzEI-GCyu"
      },
      "source": [
        "### Validate Perceptron on CIFAR"
      ]
    },
    {
      "cell_type": "code",
      "metadata": {
        "colab": {
          "base_uri": "https://localhost:8080/"
        },
        "id": "CQBxnAGCGCyu",
        "outputId": "be700813-7445-4db7-a521-2ceaf79c4199"
      },
      "source": [
        "pred_percept = percept_CIFAR.predict(X_val_CIFAR)\n",
        "print('The validation accuracy is given by: %f' % (get_acc(pred_percept, y_val_CIFAR)))"
      ],
      "execution_count": null,
      "outputs": [
        {
          "output_type": "stream",
          "text": [
            "The validation accuracy is given by: 27.660000\n"
          ],
          "name": "stdout"
        }
      ]
    },
    {
      "cell_type": "markdown",
      "metadata": {
        "id": "uFKEly_2GCyu"
      },
      "source": [
        "### Test Perceptron on CIFAR"
      ]
    },
    {
      "cell_type": "code",
      "metadata": {
        "colab": {
          "base_uri": "https://localhost:8080/"
        },
        "id": "AB_zNwn6GCyu",
        "outputId": "0c4ea31d-7b51-458c-a4fd-0e9263e0152b"
      },
      "source": [
        "pred_percept = percept_CIFAR.predict(X_test_CIFAR)\n",
        "print('The testing accuracy is given by: %f' % (get_acc(pred_percept, y_test_CIFAR)))"
      ],
      "execution_count": null,
      "outputs": [
        {
          "output_type": "stream",
          "text": [
            "The testing accuracy is given by: 27.780000\n"
          ],
          "name": "stdout"
        }
      ]
    },
    {
      "cell_type": "markdown",
      "metadata": {
        "id": "XJarqTcFGCyv"
      },
      "source": [
        "### Perceptron_CIFAR Kaggle Submission\n",
        "\n",
        "Once you are satisfied with your solution and test accuracy, output a file to submit your test set predictions to the Kaggle for Assignment 1 CIFAR. Use the following code to do so:"
      ]
    },
    {
      "cell_type": "code",
      "metadata": {
        "id": "fGgnhqTaGCyv"
      },
      "source": [
        "output_submission_csv('kaggle/perceptron_submission_CIFAR.csv', percept_CIFAR.predict(X_test_CIFAR))"
      ],
      "execution_count": null,
      "outputs": []
    },
    {
      "cell_type": "markdown",
      "metadata": {
        "id": "OPLY4Ie5GCyv"
      },
      "source": [
        "## Train Perceptron on Mushroom"
      ]
    },
    {
      "cell_type": "code",
      "metadata": {
        "colab": {
          "base_uri": "https://localhost:8080/"
        },
        "id": "CqBM56NOGCyv",
        "outputId": "f34143eb-0021-44fe-d2f1-07363668839c"
      },
      "source": [
        "lr = 0.5\n",
        "n_epochs = 50\n",
        "\n",
        "percept_MR = Perceptron(n_class_MR, lr, n_epochs)\n",
        "percept_MR.train(X_train_MR, y_train_MR)"
      ],
      "execution_count": null,
      "outputs": [
        {
          "output_type": "stream",
          "text": [
            "epoch:  0\n",
            "epoch:  10\n",
            "epoch:  20\n",
            "epoch:  30\n",
            "epoch:  40\n"
          ],
          "name": "stdout"
        }
      ]
    },
    {
      "cell_type": "code",
      "metadata": {
        "colab": {
          "base_uri": "https://localhost:8080/"
        },
        "id": "aWlRgAFgGCyv",
        "outputId": "64fdb6bd-0bd9-4f6e-e8d0-2a8b4867497b"
      },
      "source": [
        "pred_percept = percept_MR.predict(X_train_MR)\n",
        "print('The training accuracy is given by: %f' % (get_acc(pred_percept, y_train_MR)))"
      ],
      "execution_count": null,
      "outputs": [
        {
          "output_type": "stream",
          "text": [
            "The training accuracy is given by: 95.465737\n"
          ],
          "name": "stdout"
        }
      ]
    },
    {
      "cell_type": "markdown",
      "metadata": {
        "id": "7qN1SCYkGCyw"
      },
      "source": [
        "### Validate Perceptron on Mushroom"
      ]
    },
    {
      "cell_type": "code",
      "metadata": {
        "colab": {
          "base_uri": "https://localhost:8080/"
        },
        "id": "HMAl6VyXGCyw",
        "outputId": "a3150ffb-9ded-4aeb-a058-63d12117348d"
      },
      "source": [
        "pred_percept = percept_MR.predict(X_val_MR)\n",
        "print('The validation accuracy is given by: %f' % (get_acc(pred_percept, y_val_MR)))"
      ],
      "execution_count": null,
      "outputs": [
        {
          "output_type": "stream",
          "text": [
            "The validation accuracy is given by: 94.400000\n"
          ],
          "name": "stdout"
        }
      ]
    },
    {
      "cell_type": "markdown",
      "metadata": {
        "id": "i7rRPHDsGCyw"
      },
      "source": [
        "### Test Perceptron on Mushroom"
      ]
    },
    {
      "cell_type": "code",
      "metadata": {
        "colab": {
          "base_uri": "https://localhost:8080/"
        },
        "id": "dKVPWdkqGCyw",
        "outputId": "e87e41c5-2e5b-4a3b-92a4-e3870ae81c90"
      },
      "source": [
        "pred_percept = percept_MR.predict(X_test_MR)\n",
        "print('The testing accuracy is given by: %f' % (get_acc(pred_percept, y_test_MR)))"
      ],
      "execution_count": null,
      "outputs": [
        {
          "output_type": "stream",
          "text": [
            "The testing accuracy is given by: 95.200000\n"
          ],
          "name": "stdout"
        }
      ]
    },
    {
      "cell_type": "markdown",
      "metadata": {
        "id": "awa16j5rGCyw"
      },
      "source": [
        "# Support Vector Machines (with SGD)"
      ]
    },
    {
      "cell_type": "markdown",
      "metadata": {
        "id": "IZILX9cFGCyx"
      },
      "source": [
        "Next, you will implement a \"soft margin\" SVM. In this formulation you will maximize the margin between positive and negative training examples and penalize margin violations using a hinge loss.\n",
        "\n",
        "We will optimize the SVM loss using SGD. This means you must compute the loss function with respect to model weights. You will use this gradient to update the model weights.\n",
        "\n",
        "SVM optimized with SGD has 3 hyperparameters that you can experiment with:\n",
        "- **Learning rate** - similar to as defined above in Perceptron, this parameter scales by how much the weights are changed according to the calculated gradient update. \n",
        "- **Epochs** - similar to as defined above in Perceptron.\n",
        "- **Regularization constant** - Hyperparameter to determine the strength of regularization. In this case it is a coefficient on the term which maximizes the margin. You could try different values. The default value is set to 0.05."
      ]
    },
    {
      "cell_type": "markdown",
      "metadata": {
        "id": "anZleR9dGCyx"
      },
      "source": [
        "You will implement the SVM using SGD in the **models/svm.py**\n",
        "\n",
        "The following code: \n",
        "- Creates an instance of the SVM classifier class \n",
        "- The train function of the SVM class is trained on the training data\n",
        "- We use the predict function to find the training accuracy as well as the testing accuracy"
      ]
    },
    {
      "cell_type": "markdown",
      "metadata": {
        "id": "6bwUjl6AGCyy"
      },
      "source": [
        "## Train SVM on CIFAR"
      ]
    },
    {
      "cell_type": "code",
      "metadata": {
        "colab": {
          "base_uri": "https://localhost:8080/"
        },
        "id": "8l5gy8APGCyy",
        "outputId": "ca04d7a6-12a7-440e-ab1c-0a7844096bb9"
      },
      "source": [
        "lr = 0.5\n",
        "n_epochs = 20\n",
        "reg_const = 0.04\n",
        "\n",
        "svm_CIFAR = SVM(n_class_CIFAR, lr, n_epochs, reg_const, X_train_CIFAR.shape[1])\n",
        "svm_CIFAR.train(X_train_CIFAR, y_train_CIFAR)"
      ],
      "execution_count": null,
      "outputs": [
        {
          "output_type": "stream",
          "text": [
            "epoch: 0\n",
            "epoch: 10\n"
          ],
          "name": "stdout"
        }
      ]
    },
    {
      "cell_type": "code",
      "metadata": {
        "colab": {
          "base_uri": "https://localhost:8080/"
        },
        "id": "Czt9m-sbGCyy",
        "outputId": "5c19a140-39ee-4de7-e23b-ce5e4c450aa0"
      },
      "source": [
        "pred_svm = svm_CIFAR.predict(X_train_CIFAR)\n",
        "print('The training accuracy is given by: %f' % (get_acc(pred_svm, y_train_CIFAR)))"
      ],
      "execution_count": null,
      "outputs": [
        {
          "output_type": "stream",
          "text": [
            "The training accuracy is given by: 37.705000\n"
          ],
          "name": "stdout"
        }
      ]
    },
    {
      "cell_type": "markdown",
      "metadata": {
        "id": "svYw8Dq1GCyy"
      },
      "source": [
        "### Validate SVM on CIFAR"
      ]
    },
    {
      "cell_type": "code",
      "metadata": {
        "colab": {
          "base_uri": "https://localhost:8080/"
        },
        "id": "-HAkXnHbGCyy",
        "outputId": "e3d495a1-ae72-41e4-a02d-b32c258f3fc5"
      },
      "source": [
        "pred_svm = svm_CIFAR.predict(X_val_CIFAR)\n",
        "print('The validation accuracy is given by: %f' % (get_acc(pred_svm, y_val_CIFAR)))"
      ],
      "execution_count": null,
      "outputs": [
        {
          "output_type": "stream",
          "text": [
            "The validation accuracy is given by: 30.900000\n"
          ],
          "name": "stdout"
        }
      ]
    },
    {
      "cell_type": "markdown",
      "metadata": {
        "id": "UwNdK7Q5GCyz"
      },
      "source": [
        "### Test SVM on CIFAR"
      ]
    },
    {
      "cell_type": "code",
      "metadata": {
        "colab": {
          "base_uri": "https://localhost:8080/"
        },
        "id": "EdiS8xsaGCyz",
        "outputId": "ffa366bb-239e-4a30-a482-daf1bb3301df"
      },
      "source": [
        "pred_svm = svm_CIFAR.predict(X_test_CIFAR)\n",
        "print('The testing accuracy is given by: %f' % (get_acc(pred_svm, y_test_CIFAR)))"
      ],
      "execution_count": null,
      "outputs": [
        {
          "output_type": "stream",
          "text": [
            "The testing accuracy is given by: 30.190000\n"
          ],
          "name": "stdout"
        }
      ]
    },
    {
      "cell_type": "markdown",
      "metadata": {
        "id": "sD847UyxGCyz"
      },
      "source": [
        "### SVM_CIFAR Kaggle Submission\n",
        "\n",
        "Once you are satisfied with your solution and test accuracy output a file to submit your test set predictions to the Kaggle for Assignment 1 CIFAR. Use the following code to do so:"
      ]
    },
    {
      "cell_type": "code",
      "metadata": {
        "id": "IWauSJTOGCyz"
      },
      "source": [
        "output_submission_csv('kaggle/svm_submission_CIFAR.csv', svm_CIFAR.predict(X_test_CIFAR))"
      ],
      "execution_count": null,
      "outputs": []
    },
    {
      "cell_type": "markdown",
      "metadata": {
        "id": "pK-76FxwGCyz"
      },
      "source": [
        "## Train SVM on Mushroom"
      ]
    },
    {
      "cell_type": "code",
      "metadata": {
        "colab": {
          "base_uri": "https://localhost:8080/"
        },
        "id": "6lr9MB98GCy0",
        "outputId": "a1b7166d-4fd3-4e74-a425-034f75ec559c"
      },
      "source": [
        "lr = 0.5\n",
        "n_epochs = 10\n",
        "reg_const = 0.05\n",
        "\n",
        "svm_MR = SVM(n_class_MR, lr, n_epochs, reg_const, X_train_MR.shape[1])\n",
        "svm_MR.train(X_train_MR, y_train_MR)"
      ],
      "execution_count": null,
      "outputs": [
        {
          "output_type": "stream",
          "text": [
            "epoch: 0\n"
          ],
          "name": "stdout"
        }
      ]
    },
    {
      "cell_type": "code",
      "metadata": {
        "colab": {
          "base_uri": "https://localhost:8080/"
        },
        "id": "b35lljfIGCy0",
        "outputId": "a0dd4419-30c9-4dfc-8301-924e90945d55"
      },
      "source": [
        "pred_svm = svm_MR.predict(X_train_MR)\n",
        "print('The training accuracy is given by: %f' % (get_acc(pred_svm, y_train_MR)))"
      ],
      "execution_count": null,
      "outputs": [
        {
          "output_type": "stream",
          "text": [
            "The training accuracy is given by: 51.682396\n"
          ],
          "name": "stdout"
        }
      ]
    },
    {
      "cell_type": "markdown",
      "metadata": {
        "id": "lCqxlFoCGCy0"
      },
      "source": [
        "### Validate SVM on Mushroom"
      ]
    },
    {
      "cell_type": "code",
      "metadata": {
        "colab": {
          "base_uri": "https://localhost:8080/"
        },
        "id": "aJOGCEtfGCy0",
        "outputId": "6ac5f67c-6452-4179-afc2-1c97ddf58f3c"
      },
      "source": [
        "pred_svm = svm_MR.predict(X_val_MR)\n",
        "print('The validation accuracy is given by: %f' % (get_acc(pred_svm, y_val_MR)))"
      ],
      "execution_count": null,
      "outputs": [
        {
          "output_type": "stream",
          "text": [
            "The validation accuracy is given by: 50.830769\n"
          ],
          "name": "stdout"
        }
      ]
    },
    {
      "cell_type": "markdown",
      "metadata": {
        "id": "WJN7ndkwGCy0"
      },
      "source": [
        "## Test SVM on Mushroom"
      ]
    },
    {
      "cell_type": "code",
      "metadata": {
        "colab": {
          "base_uri": "https://localhost:8080/"
        },
        "id": "HSEYGOiFGCy1",
        "outputId": "bf13cf5a-25c4-412a-f747-dc17f8d644c6"
      },
      "source": [
        "pred_svm = svm_MR.predict(X_test_MR)\n",
        "print('The testing accuracy is given by: %f' % (get_acc(pred_svm, y_test_MR)))"
      ],
      "execution_count": null,
      "outputs": [
        {
          "output_type": "stream",
          "text": [
            "The testing accuracy is given by: 53.107692\n"
          ],
          "name": "stdout"
        }
      ]
    },
    {
      "cell_type": "markdown",
      "metadata": {
        "id": "bpoQ4bP8GCy1"
      },
      "source": [
        "# Softmax Classifier (with SGD)"
      ]
    },
    {
      "cell_type": "markdown",
      "metadata": {
        "collapsed": true,
        "id": "Sk-pbXJNGCy1"
      },
      "source": [
        "Next, you will train a Softmax classifier. This classifier consists of a linear function of the input data followed by a softmax function which outputs a vector of dimension C (number of classes) for each data point. Each entry of the softmax output vector corresponds to a confidence in one of the C classes, and like a probability distribution, the entries of the output vector sum to 1. We use a cross-entropy loss on this sotmax output to train the model. \n",
        "\n",
        "Check the following link as an additional resource on softmax classification: http://cs231n.github.io/linear-classify/#softmax\n",
        "\n",
        "Once again we will train the classifier with SGD. This means you need to compute the gradients of the softmax cross-entropy loss function according to the weights and update the weights using this gradient. Check the following link to help with implementing the gradient updates: https://deepnotes.io/softmax-crossentropy"
      ]
    },
    {
      "cell_type": "markdown",
      "metadata": {
        "id": "lWxIn5nTGCy1"
      },
      "source": [
        "The softmax classifier has 3 hyperparameters that you can experiment with:\n",
        "- **Learning rate** - As above, this controls how much the model weights are updated with respect to their gradient.\n",
        "- **Number of Epochs** - As described for perceptron.\n",
        "- **Regularization constant** - Hyperparameter to determine the strength of regularization. In this case, we minimize the L2 norm of the model weights as regularization, so the regularization constant is a coefficient on the L2 norm in the combined cross-entropy and regularization objective."
      ]
    },
    {
      "cell_type": "markdown",
      "metadata": {
        "id": "-EQUi0JHGCy2"
      },
      "source": [
        "You will implement a softmax classifier using SGD in the **models/softmax.py**\n",
        "\n",
        "The following code: \n",
        "- Creates an instance of the Softmax classifier class \n",
        "- The train function of the Softmax class is trained on the training data\n",
        "- We use the predict function to find the training accuracy as well as the testing accuracy"
      ]
    },
    {
      "cell_type": "markdown",
      "metadata": {
        "id": "K7FtHf4MGCy2"
      },
      "source": [
        "## Train Softmax on CIFAR"
      ]
    },
    {
      "cell_type": "code",
      "metadata": {
        "colab": {
          "base_uri": "https://localhost:8080/",
          "height": 0
        },
        "id": "Ezw-aS-EGCy2",
        "outputId": "589bf7d9-1690-47d3-af06-8e71578597f5"
      },
      "source": [
        "lr = 0.5\n",
        "n_epochs = 10\n",
        "reg_const = 0.05\n",
        "\n",
        "softmax_CIFAR = Softmax(n_class_CIFAR, lr, n_epochs, reg_const)\n",
        "softmax_CIFAR.train(X_train_CIFAR, y_train_CIFAR)"
      ],
      "execution_count": 70,
      "outputs": [
        {
          "output_type": "stream",
          "text": [
            "epoch 0\n",
            "epoch 1\n",
            "epoch 2\n",
            "epoch 3\n",
            "epoch 4\n",
            "epoch 5\n",
            "epoch 6\n",
            "epoch 7\n",
            "epoch 8\n",
            "epoch 9\n"
          ],
          "name": "stdout"
        }
      ]
    },
    {
      "cell_type": "code",
      "metadata": {
        "colab": {
          "base_uri": "https://localhost:8080/",
          "height": 0
        },
        "id": "9W9FgkRmGCy2",
        "outputId": "7b654cd9-883e-41ef-f9f6-e276565eba8a"
      },
      "source": [
        "pred_softmax = softmax_CIFAR.predict(X_train_CIFAR)\n",
        "print('The training accuracy is given by: %f' % (get_acc(pred_softmax, y_train_CIFAR)))"
      ],
      "execution_count": 71,
      "outputs": [
        {
          "output_type": "stream",
          "text": [
            "The training accuracy is given by: 38.715000\n"
          ],
          "name": "stdout"
        }
      ]
    },
    {
      "cell_type": "markdown",
      "metadata": {
        "id": "DT5wfIm7GCy2"
      },
      "source": [
        "### Validate Softmax on CIFAR"
      ]
    },
    {
      "cell_type": "code",
      "metadata": {
        "colab": {
          "base_uri": "https://localhost:8080/",
          "height": 0
        },
        "id": "kf3haerdGCy2",
        "outputId": "137cdb46-9d97-4ceb-d9ca-78540cc88f65"
      },
      "source": [
        "pred_softmax = softmax_CIFAR.predict(X_val_CIFAR)\n",
        "print('The validation accuracy is given by: %f' % (get_acc(pred_softmax, y_val_CIFAR)))"
      ],
      "execution_count": 72,
      "outputs": [
        {
          "output_type": "stream",
          "text": [
            "The validation accuracy is given by: 32.340000\n"
          ],
          "name": "stdout"
        }
      ]
    },
    {
      "cell_type": "markdown",
      "metadata": {
        "id": "0KaqSTLTGCy3"
      },
      "source": [
        "### Testing Softmax on CIFAR"
      ]
    },
    {
      "cell_type": "code",
      "metadata": {
        "colab": {
          "base_uri": "https://localhost:8080/",
          "height": 0
        },
        "id": "iuwhkQzwGCy3",
        "outputId": "1562f3bc-3f74-4769-b2fd-1c8047b939ce"
      },
      "source": [
        "pred_softmax = softmax_CIFAR.predict(X_test_CIFAR)\n",
        "print('The testing accuracy is given by: %f' % (get_acc(pred_softmax, y_test_CIFAR)))"
      ],
      "execution_count": 73,
      "outputs": [
        {
          "output_type": "stream",
          "text": [
            "The testing accuracy is given by: 32.320000\n"
          ],
          "name": "stdout"
        }
      ]
    },
    {
      "cell_type": "markdown",
      "metadata": {
        "id": "pJZDBM2RGCy3"
      },
      "source": [
        "### Softmax_CIFAR Kaggle Submission\n",
        "\n",
        "Once you are satisfied with your solution and test accuracy output a file to submit your test set predictions to the Kaggle for Assignment 1 CIFAR. Use the following code to do so:"
      ]
    },
    {
      "cell_type": "code",
      "metadata": {
        "id": "c9ONAenXGCy3"
      },
      "source": [
        "output_submission_csv('kaggle/softmax_submission_CIFAR.csv', softmax_CIFAR.predict(X_test_CIFAR))"
      ],
      "execution_count": 74,
      "outputs": []
    },
    {
      "cell_type": "markdown",
      "metadata": {
        "id": "ANlKSe75GCy3"
      },
      "source": [
        "## Train Softmax on Mushroom"
      ]
    },
    {
      "cell_type": "code",
      "metadata": {
        "colab": {
          "base_uri": "https://localhost:8080/",
          "height": 0
        },
        "id": "H-pSaZErGCy3",
        "outputId": "e1cbb702-16f1-4648-d153-08e70d1190e9"
      },
      "source": [
        "lr = 0.5\n",
        "n_epochs = 10\n",
        "reg_const = 0.05\n",
        "\n",
        "softmax_MR = Softmax(n_class_MR, lr, n_epochs, reg_const)\n",
        "softmax_MR.train(X_train_MR, y_train_MR)"
      ],
      "execution_count": 75,
      "outputs": [
        {
          "output_type": "stream",
          "text": [
            "epoch 0\n",
            "epoch 1\n",
            "epoch 2\n",
            "epoch 3\n",
            "epoch 4\n",
            "epoch 5\n",
            "epoch 6\n",
            "epoch 7\n",
            "epoch 8\n",
            "epoch 9\n"
          ],
          "name": "stdout"
        }
      ]
    },
    {
      "cell_type": "code",
      "metadata": {
        "colab": {
          "base_uri": "https://localhost:8080/",
          "height": 0
        },
        "id": "XnJZSw8SGCy4",
        "outputId": "07c04bbc-3934-4ba8-ea78-76e770b52713"
      },
      "source": [
        "pred_softmax = softmax_MR.predict(X_train_MR)\n",
        "print('The training accuracy is given by: %f' % (get_acc(pred_softmax, y_train_MR)))"
      ],
      "execution_count": 76,
      "outputs": [
        {
          "output_type": "stream",
          "text": [
            "The training accuracy is given by: 94.398851\n"
          ],
          "name": "stdout"
        }
      ]
    },
    {
      "cell_type": "markdown",
      "metadata": {
        "id": "Br1iQcPgGCy4"
      },
      "source": [
        "### Validate Softmax on Mushroom"
      ]
    },
    {
      "cell_type": "code",
      "metadata": {
        "colab": {
          "base_uri": "https://localhost:8080/",
          "height": 0
        },
        "id": "JAyP2zvHGCy4",
        "outputId": "0b1272fa-03f8-4fb5-9cb8-734413884c18"
      },
      "source": [
        "pred_softmax = softmax_MR.predict(X_val_MR)\n",
        "print('The validation accuracy is given by: %f' % (get_acc(pred_softmax, y_val_MR)))"
      ],
      "execution_count": 77,
      "outputs": [
        {
          "output_type": "stream",
          "text": [
            "The validation accuracy is given by: 94.092308\n"
          ],
          "name": "stdout"
        }
      ]
    },
    {
      "cell_type": "markdown",
      "metadata": {
        "id": "yNED9O3mGCy4"
      },
      "source": [
        "### Testing Softmax on Mushroom"
      ]
    },
    {
      "cell_type": "code",
      "metadata": {
        "colab": {
          "base_uri": "https://localhost:8080/",
          "height": 0
        },
        "id": "U1_okNtLGCy4",
        "outputId": "2b70828e-f43c-4dcc-87ca-84b01472847b"
      },
      "source": [
        "pred_softmax = softmax_MR.predict(X_test_MR)\n",
        "print('The testing accuracy is given by: %f' % (get_acc(pred_softmax, y_test_MR)))"
      ],
      "execution_count": 78,
      "outputs": [
        {
          "output_type": "stream",
          "text": [
            "The testing accuracy is given by: 93.969231\n"
          ],
          "name": "stdout"
        }
      ]
    },
    {
      "cell_type": "markdown",
      "metadata": {
        "id": "BeonAvm_GCy4"
      },
      "source": [
        "# Logistic Classifier"
      ]
    },
    {
      "cell_type": "markdown",
      "metadata": {
        "id": "R_7u7pcPGCy5"
      },
      "source": [
        "The Logistic Classifier has 2 hyperparameters that you can experiment with:\n",
        "- **Learning rate** - similar to as defined above in Perceptron, this parameter scales by how much the weights are changed according to the calculated gradient update. \n",
        "- **Number of Epochs** - As described for perceptron.\n",
        "\n"
      ]
    },
    {
      "cell_type": "markdown",
      "metadata": {
        "id": "6BDzfLX6GCy5"
      },
      "source": [
        "You will implement the Logistic Classifier in the **models/logistic.py**\n",
        "\n",
        "The following code: \n",
        "- Creates an instance of the Logistic classifier class \n",
        "- The train function of the Logistic class is trained on the training data\n",
        "- We use the predict function to find the training accuracy as well as the testing accuracy"
      ]
    },
    {
      "cell_type": "markdown",
      "metadata": {
        "id": "DEefyAJkGCy5"
      },
      "source": [
        "### Training Logistic Classifer"
      ]
    },
    {
      "cell_type": "code",
      "metadata": {
        "id": "HSUM0bfxGCy5"
      },
      "source": [
        "learning_rate = 0.5\n",
        "n_epochs = 10\n",
        "\n",
        "lr = Logistic(learning_rate, n_epochs, X_train_MR.shape[1])\n",
        "lr.train(X_train_MR, y_train_MR)"
      ],
      "execution_count": null,
      "outputs": []
    },
    {
      "cell_type": "code",
      "metadata": {
        "colab": {
          "base_uri": "https://localhost:8080/"
        },
        "id": "9tErbcgUGCy6",
        "outputId": "7d587b9d-065b-4359-c21d-8b639e7d2824"
      },
      "source": [
        "pred_lr = lr.predict(X_train_MR)\n",
        "print('The training accuracy is given by: %f' % (get_acc(pred_lr, y_train_MR)))"
      ],
      "execution_count": null,
      "outputs": [
        {
          "output_type": "stream",
          "text": [
            "The training accuracy is given by: 94.193681\n"
          ],
          "name": "stdout"
        }
      ]
    },
    {
      "cell_type": "markdown",
      "metadata": {
        "id": "wfuyQI46GCy6"
      },
      "source": [
        "### Validate Logistic Classifer"
      ]
    },
    {
      "cell_type": "code",
      "metadata": {
        "colab": {
          "base_uri": "https://localhost:8080/"
        },
        "id": "rDXABk43GCy6",
        "outputId": "7748c01f-3ddc-4f5a-e1b9-a07574720d37"
      },
      "source": [
        "pred_lr = lr.predict(X_val_MR)\n",
        "print('The validation accuracy is given by: %f' % (get_acc(pred_lr, y_val_MR)))"
      ],
      "execution_count": null,
      "outputs": [
        {
          "output_type": "stream",
          "text": [
            "The validation accuracy is given by: 94.276923\n"
          ],
          "name": "stdout"
        }
      ]
    },
    {
      "cell_type": "markdown",
      "metadata": {
        "id": "uBUc1aKoGCy6"
      },
      "source": [
        "### Test Logistic Classifier"
      ]
    },
    {
      "cell_type": "code",
      "metadata": {
        "colab": {
          "base_uri": "https://localhost:8080/"
        },
        "id": "I6vKvGMcGCy6",
        "outputId": "35049b81-7cee-4148-c956-8388919e5135"
      },
      "source": [
        "pred_lr = lr.predict(X_test_MR)\n",
        "print('The testing accuracy is given by: %f' % (get_acc(pred_lr, y_test_MR)))"
      ],
      "execution_count": null,
      "outputs": [
        {
          "output_type": "stream",
          "text": [
            "The testing accuracy is given by: 93.907692\n"
          ],
          "name": "stdout"
        }
      ]
    }
  ]
}